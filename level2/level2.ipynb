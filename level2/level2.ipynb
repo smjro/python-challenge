{
 "cells": [
  {
   "cell_type": "markdown",
   "metadata": {},
   "source": [
    "# Python Challenge level2\n",
    "---\n",
    "## 問題\n",
    "ページソース内のコメントから出現回数の少ない文字を抽出する。"
   ]
  },
  {
   "cell_type": "code",
   "execution_count": 1,
   "metadata": {},
   "outputs": [],
   "source": [
    "import requests\n",
    "import re\n",
    "import collections"
   ]
  },
  {
   "cell_type": "code",
   "execution_count": 2,
   "metadata": {},
   "outputs": [
    {
     "name": "stdout",
     "output_type": "stream",
     "text": [
      "Counter({')': 6186, '@': 6157, '(': 6154, ']': 6152, '#': 6115, '_': 6112, '[': 6108, '}': 6105, '%': 6104, '!': 6079, '+': 6066, '$': 6046, '{': 6046, '&': 6043, '*': 6034, '^': 6030, '\\n': 1221, 'e': 1, 'q': 1, 'u': 1, 'a': 1, 'l': 1, 'i': 1, 't': 1, 'y': 1})\n",
      "['e', 'q', 'u', 'a', 'l', 'i', 't', 'y']\n",
      "equality\n"
     ]
    }
   ],
   "source": [
    "url = \"http://www.pythonchallenge.com/pc/def/ocr.html\"\n",
    "# 応答データを受け取る\n",
    "respons = requests.get(url)\n",
    "\n",
    "# 正規表現を用いてコメント部分を抽出\n",
    "text = re.findall(\"<!--(.*?)-->\", respons.text, re.DOTALL)[-1]\n",
    "\n",
    "# 要素数の算出\n",
    "c = collections.Counter(text)\n",
    "print(c)\n",
    "# 出現回数が最小の文字を抽出\n",
    "print([i[0] for i in c.items() if i[1] == 1])\n",
    "# 別表示\n",
    "print(\"\".join(re.findall(\"[a-z]\", text)))"
   ]
  },
  {
   "cell_type": "markdown",
   "metadata": {},
   "source": [
    "## 解説\n",
    "level2では\n",
    "- webデータ(html)の読み込み\n",
    "- 文字列の抽出\n",
    "- 要素数の算出\n",
    "\n",
    "の技術を使用した。以下で、それぞれ解説する。"
   ]
  },
  {
   "cell_type": "markdown",
   "metadata": {},
   "source": [
    "## requests.get()によるhtmlの読み込み\n",
    "---\n",
    "requestsのgetメソッドにurlを渡すとレスポンス内容が格納されたオブジェクト返される。このオブジェクトのtext属性にhtmlが格納されている。例では、日本語が使用されているためエンコードを行った。apparent_encoding()は自動で文字コードを判定してくれる。"
   ]
  },
  {
   "cell_type": "code",
   "execution_count": 3,
   "metadata": {},
   "outputs": [
    {
     "name": "stdout",
     "output_type": "stream",
     "text": [
      "\n",
      "<!DOCTYPE html>\n",
      "<html lang=\"ja\">\n",
      "\n",
      "<head>\n",
      "<meta charset=\"UTF-8\">\n",
      "\n",
      "<meta name=\"viewport\" content=\"width=device-width, initial-scale=1.0\">\n",
      "<meta http-equiv=\"X-UA-Compatible\" content=\"ie=edge\">\n",
      "<meta name=\"description\" content=\"Pythonの標準ライブラリurllibを使うとURLを開くことができるが、サードパーティライブラリのRequestsを使うとよりシンプルに書ける。R\n"
     ]
    }
   ],
   "source": [
    "# URL\n",
    "sample_url = \"https://note.nkmk.me/python-requests-usage/\"\n",
    "# 応答データの取得\n",
    "res = requests.get(sample_url)\n",
    "# エンコード\n",
    "res.encoding = res.apparent_encoding\n",
    "print(res.text[:300])"
   ]
  },
  {
   "cell_type": "markdown",
   "metadata": {},
   "source": [
    "## 正規表現による文字列抽出(re.findall())\n",
    "---\n",
    "re.findall(pattern, string)\n",
    "> string 中の pattern による全ての重複しないマッチを、文字列のリストとして返します。 string は左から右へ走査され、マッチは見つかった順で返されます。パターン中に 1 つ以上のグループがあれば、グループのリストを返します。パターンに複数のグループがあればタプルのリストになります。空マッチは結果に含まれます。\n",
    "\n",
    "\\nを文字列に含める場合は**re.DOTALL**をオプションとして追加する。\n",
    "\n",
    "### パターン\n",
    "|文字|意味|例|マッチ対象|\n",
    "|:--:|:--:|:--:|:--:|\n",
    "|.|\\n以外の任意の１文字|a.|ab, aa|\n",
    "|\\*|任意の個数(0を含む)の直前の文字|-|-|\n",
    "|?|0か1個の直前の文字|-|-|\n",
    "|()|括弧内の抽出、グループ化|(ab).|abc, abb|\n",
    "\n",
    "### .\\*と.\\*?の違いについて\n",
    ".\\*と.\\*?は感覚としては  \n",
    ".\\*が「任意の文字をなるべく多く探す」のに対して  \n",
    ".\\*?が「任意の文字をなるべく少なく」探す  "
   ]
  },
  {
   "cell_type": "code",
   "execution_count": 4,
   "metadata": {},
   "outputs": [
    {
     "name": "stdout",
     "output_type": "stream",
     "text": [
      "['ab', 'abbbb', 'a']\n",
      "['ab', 'ab', 'a']\n"
     ]
    }
   ],
   "source": [
    "sample = \"ababbbba\"\n",
    "print(re.findall(\"ab*\", sample))\n",
    "print(re.findall(\"ab?\", sample))"
   ]
  },
  {
   "cell_type": "markdown",
   "metadata": {},
   "source": [
    "## collections.Counter()による要素数算出\n",
    "---\n",
    "引数に与えた文字列から各要素数を辞書型で出力してくれる。"
   ]
  },
  {
   "cell_type": "code",
   "execution_count": 5,
   "metadata": {},
   "outputs": [
    {
     "name": "stdout",
     "output_type": "stream",
     "text": [
      "Counter({' ': 3, 'i': 2, 's': 2, 'a': 2, 'p': 2, 'T': 1, 'h': 1, 'l': 1, 'e': 1, '.': 1})\n"
     ]
    }
   ],
   "source": [
    "sample_text = \"This is a apple.\"\n",
    "print(collections.Counter(sample_text))"
   ]
  }
 ],
 "metadata": {
  "kernelspec": {
   "display_name": "Python 3",
   "language": "python",
   "name": "python3"
  },
  "language_info": {
   "codemirror_mode": {
    "name": "ipython",
    "version": 3
   },
   "file_extension": ".py",
   "mimetype": "text/x-python",
   "name": "python",
   "nbconvert_exporter": "python",
   "pygments_lexer": "ipython3",
   "version": "3.7.3"
  }
 },
 "nbformat": 4,
 "nbformat_minor": 4
}
