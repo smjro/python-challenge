{
 "cells": [
  {
   "cell_type": "markdown",
   "metadata": {},
   "source": [
    "# 問題\n",
    "両サイドを３つの大文字で囲まれた小文字を抽出する"
   ]
  },
  {
   "cell_type": "code",
   "execution_count": 1,
   "metadata": {},
   "outputs": [],
   "source": [
    "import requests\n",
    "import re"
   ]
  },
  {
   "cell_type": "code",
   "execution_count": 6,
   "metadata": {},
   "outputs": [
    {
     "name": "stdout",
     "output_type": "stream",
     "text": [
      "linkedlist\n"
     ]
    }
   ],
   "source": [
    "# 応答データを受け取る\n",
    "req = requests.get(\"http://www.pythonchallenge.com/pc/def/equality.html\")\n",
    "\n",
    "# 正規表現を用いてコメント部分を抽出\n",
    "text = re.findall(\"<!--(.*?)-->\", req.text, re.DOTALL)[-1]\n",
    "# 対象文字を抽出\n",
    "print(\"\".join(re.findall(\"[^A-Z][A-Z]{3}([a-z])[A-Z]{3}[^A-Z]\", text, re.DOTALL)))"
   ]
  },
  {
   "cell_type": "markdown",
   "metadata": {},
   "source": [
    "# 解説\n",
    "手法は[level2](https://github.com/smjro/python-challenge/tree/master/level2)と同様なので割愛する。\n",
    "\n",
    "ここでは、今回使用した正規表現について以下表で示すに留める。\n",
    "\n",
    "|文字|意味|例|マッチ対象|\n",
    "|:--:|:--:|:--:|:--:|\n",
    "|\\[^\\]|補集合をとって範囲内に無い文字|\\[^5\\]|1, 4|\n",
    "|{m}|直前の正規表現をm回繰り返し|\\[5\\]{2}|55|"
   ]
  }
 ],
 "metadata": {
  "kernelspec": {
   "display_name": "Python 3",
   "language": "python",
   "name": "python3"
  },
  "language_info": {
   "codemirror_mode": {
    "name": "ipython",
    "version": 3
   },
   "file_extension": ".py",
   "mimetype": "text/x-python",
   "name": "python",
   "nbconvert_exporter": "python",
   "pygments_lexer": "ipython3",
   "version": "3.7.3"
  }
 },
 "nbformat": 4,
 "nbformat_minor": 2
}
