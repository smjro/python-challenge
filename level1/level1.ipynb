{
 "cells": [
  {
   "cell_type": "markdown",
   "metadata": {},
   "source": [
    "# Python Challenge level1\n",
    "---\n",
    "# 問題\n",
    "\n",
    "以下の文字列を２文字分右にシフトする。\n",
    "> g fmnc wms bgblr rpylqjyrc gr zw fylb. rfyrq ufyr amknsrcpq ypc dmp. bmgle gr gl zw fylb gq glcddgagclr ylb rfyr'q ufw rfgq rcvr gq qm jmle. sqgle qrpgle.kyicrpylq() gq pcamkkclbcb. lmu ynnjw ml rfc spj."
   ]
  },
  {
   "cell_type": "code",
   "execution_count": 1,
   "metadata": {
    "collapsed": false
   },
   "outputs": [],
   "source": [
    "from IPython.display import Image"
   ]
  },
  {
   "cell_type": "markdown",
   "metadata": {},
   "source": [
    "# シーザー暗号の実装\n",
    "---\n",
    "上記の問題のように、数文字分シフトして暗号化する暗号を**シーザー暗号**という。\n",
    "\n",
    "シーザー暗号（wikipedia）\n",
    "> シーザー暗号は単一換字式暗号の一種で、平文の各文字を、辞書順に3文字分シフトして暗号文を作る暗号である。文字のシフト数は固定であるが、3に限る必要はない。例えば左に3文字分シフトさせる場合、「D」は「A」に置き換わり、同様に「E」は「B」に置換される。シーザー暗号はヴィジュネル暗号などの部品として使用されることがあるほか、現代でもシフト数を13にした方式としてROT13が使用されることがある。"
   ]
  },
  {
   "cell_type": "code",
   "execution_count": 2,
   "metadata": {
    "collapsed": false
   },
   "outputs": [
    {
     "data": {
      "image/png": "[encoded data removed]",
      "text/plain": [
       "<IPython.core.display.Image object>"
      ]
     },
     "execution_count": 2,
     "metadata": {
      "image/png": {
       "width": 500
      }
     },
     "output_type": "execute_result"
    }
   ],
   "source": [
    "Image(filename='../images/caesar_cipher.png', width=500)"
   ]
  },
  {
   "cell_type": "code",
   "execution_count": 3,
   "metadata": {
    "collapsed": false
   },
   "outputs": [
    {
     "name": "stdout",
     "output_type": "stream",
     "text": [
      "Hello, World!\n"
     ]
    }
   ],
   "source": [
    "# -*- coding: utf-8 -*-\n",
    "\n",
    "def _caesar(c, num):\n",
    "    \"\"\"指定数分文字をシフト\n",
    "    \n",
    "    パラメータ\n",
    "    ------------------\n",
    "    c : str\n",
    "        文字\n",
    "    num : int\n",
    "        シフトする数\n",
    "    \n",
    "    \"\"\"\n",
    "    if 'A' <= c and c <= 'Z':\n",
    "        # num 文字分ずらす\n",
    "        return chr((ord(c) - ord('A') + num) % 26 + ord('A'))\n",
    "\n",
    "    if 'a' <= c and c <= 'z':\n",
    "        # num 文字分ずらす\n",
    "        return chr((ord(c) - ord('a') + num) % 26 + ord('a'))\n",
    "\n",
    "    # その他の文字は対象外\n",
    "    return c\n",
    "\n",
    "\n",
    "def rot(s, num=13):\n",
    "    # ジェネレータ内包表記で文字列に rot を適用する\n",
    "    g = (_caesar(c, num) for c in s)\n",
    "    # ずべての文字を連結\n",
    "    return ''.join(g)\n",
    "\n",
    "\n",
    "def main():\n",
    "    s = \"Uryyb, Jbeyq!\"\n",
    "    print(rot(s))\n",
    "\n",
    "\n",
    "if __name__ == '__main__':\n",
    "    main()"
   ]
  },
  {
   "cell_type": "markdown",
   "metadata": {},
   "source": [
    "# 解説\n",
    "---\n",
    "`ord()`: 文字に対し整数を返す  \n",
    "`chr()`: 整数に対し文字を返す  \n",
    "e.g."
   ]
  },
  {
   "cell_type": "code",
   "execution_count": 4,
   "metadata": {
    "collapsed": false
   },
   "outputs": [
    {
     "data": {
      "text/plain": [
       "97"
      ]
     },
     "execution_count": 4,
     "metadata": {},
     "output_type": "execute_result"
    }
   ],
   "source": [
    "ord('a')"
   ]
  },
  {
   "cell_type": "code",
   "execution_count": 5,
   "metadata": {
    "collapsed": false
   },
   "outputs": [
    {
     "data": {
      "text/plain": [
       "'a'"
      ]
     },
     "execution_count": 5,
     "metadata": {},
     "output_type": "execute_result"
    }
   ],
   "source": [
    "chr(97)"
   ]
  },
  {
   "cell_type": "markdown",
   "metadata": {},
   "source": [
    "'a-z'、'A-Z'は連続した文字コードであるため、`ord()`を用いれば連続した数値を得ることができる。そこで、シフト後とa（またはA）の差を`ord()`で算出し、その差が26以上であれば、26を超えた分、aに加算することでzの次はaに戻るようにしている。"
   ]
  }
 ],
 "metadata": {
  "kernelspec": {
   "display_name": "Python [conda root]",
   "language": "python",
   "name": "conda-root-py"
  },
  "language_info": {
   "codemirror_mode": {
    "name": "ipython",
    "version": 3
   },
   "file_extension": ".py",
   "mimetype": "text/x-python",
   "name": "python",
   "nbconvert_exporter": "python",
   "pygments_lexer": "ipython3",
   "version": "3.5.2"
  }
 },
 "nbformat": 4,
 "nbformat_minor": 2
}
